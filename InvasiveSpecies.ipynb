{
 "cells": [
  {
   "cell_type": "code",
   "execution_count": 1,
   "metadata": {
    "collapsed": true
   },
   "outputs": [],
   "source": [
    "import tensorflow as tf\n",
    "import pandas as pd\n",
    "import os\n",
    "import numpy as np"
   ]
  },
  {
   "cell_type": "code",
   "execution_count": 2,
   "metadata": {
    "collapsed": false
   },
   "outputs": [
    {
     "data": {
      "text/html": [
       "<div>\n",
       "<table border=\"1\" class=\"dataframe\">\n",
       "  <thead>\n",
       "    <tr style=\"text-align: right;\">\n",
       "      <th></th>\n",
       "      <th>name</th>\n",
       "      <th>invasive</th>\n",
       "    </tr>\n",
       "  </thead>\n",
       "  <tbody>\n",
       "    <tr>\n",
       "      <th>0</th>\n",
       "      <td>1</td>\n",
       "      <td>0</td>\n",
       "    </tr>\n",
       "    <tr>\n",
       "      <th>1</th>\n",
       "      <td>2</td>\n",
       "      <td>0</td>\n",
       "    </tr>\n",
       "    <tr>\n",
       "      <th>2</th>\n",
       "      <td>3</td>\n",
       "      <td>1</td>\n",
       "    </tr>\n",
       "    <tr>\n",
       "      <th>3</th>\n",
       "      <td>4</td>\n",
       "      <td>0</td>\n",
       "    </tr>\n",
       "    <tr>\n",
       "      <th>4</th>\n",
       "      <td>5</td>\n",
       "      <td>1</td>\n",
       "    </tr>\n",
       "  </tbody>\n",
       "</table>\n",
       "</div>"
      ],
      "text/plain": [
       "   name  invasive\n",
       "0     1         0\n",
       "1     2         0\n",
       "2     3         1\n",
       "3     4         0\n",
       "4     5         1"
      ]
     },
     "execution_count": 2,
     "metadata": {},
     "output_type": "execute_result"
    }
   ],
   "source": [
    "traindata = pd.read_csv(\"train_labels.csv\")\n",
    "traindata.head()"
   ]
  },
  {
   "cell_type": "markdown",
   "metadata": {},
   "source": [
    "Using the labels data, rename the training images, to categorize the data."
   ]
  },
  {
   "cell_type": "code",
   "execution_count": 16,
   "metadata": {
    "collapsed": false
   },
   "outputs": [],
   "source": [
    "for i in range (0,len(traindata)):\n",
    "    image_class = traindata.ix[i][1]\n",
    "    os.rename(\"train/{}.jpg\".format(i+1), \"train/{}_{}.jpg\".format(image_class,i+1))"
   ]
  },
  {
   "cell_type": "markdown",
   "metadata": {},
   "source": [
    "Train the images on InceptionV3 model using transfer learning.\n",
    "!python ../TensorFlow/tensorflow/tensorflow/examples/image_retraining/retrain.py \\\n",
    "--bottleneck_dir=tf_files/bottlenecks \\\n",
    "--how_many_training_steps 4000 \\\n",
    "--model_dir=tf_files/inception \\\n",
    "--output_graph=tf_files/retrained_graph.pb \\\n",
    "--output_labels=tf_files/retrained_labels.txt \\\n",
    "--summaries_dir=tf_files/logs \\\n",
    "--image_dir=train\n",
    "\n",
    "Once the training is complete, the following code predicts the test data using the trained and the saved model."
   ]
  },
  {
   "cell_type": "markdown",
   "metadata": {},
   "source": [
    "Loading the trained model and the labels"
   ]
  },
  {
   "cell_type": "code",
   "execution_count": 3,
   "metadata": {
    "collapsed": true
   },
   "outputs": [],
   "source": [
    "classes = [line.rstrip() for line in tf.gfile.GFile(\"tf_files/retrained_labels.txt\")]\n",
    "with tf.gfile.FastGFile(\"tf_files/retrained_graph.pb\",'rb') as fd:\n",
    "    graph_def = tf.GraphDef()\n",
    "    graph_def.ParseFromString(fd.read())\n",
    "    _ = tf.import_graph_def(graph_def, name='')"
   ]
  },
  {
   "cell_type": "markdown",
   "metadata": {},
   "source": [
    "Save the predictions of the test images in a csv file."
   ]
  },
  {
   "cell_type": "code",
   "execution_count": null,
   "metadata": {
    "collapsed": false
   },
   "outputs": [],
   "source": [
    "predictions = []\n",
    "#predictions.append(0)\n",
    "cnt = 0\n",
    "for i in range (1,len(os.listdir('test'))):\n",
    "    input_image = tf.gfile.FastGFile('test/{}.jpg'.format(str(i)), 'rb').read()\n",
    "    with tf.Session() as sess:\n",
    "        final_layer_ouput = sess.graph.get_tensor_by_name(\"final_result:0\")\n",
    "        prediction = sess.run(final_layer_ouput, {'DecodeJpeg/contents:0':input_image})\n",
    "        #print(i)\n",
    "        #print(classes)\n",
    "        #print(prediction)\n",
    "        predictions.append(prediction[0][1])"
   ]
  },
  {
   "cell_type": "code",
   "execution_count": null,
   "metadata": {
    "collapsed": false
   },
   "outputs": [],
   "source": [
    "df = pd.DataFrame({\"name\":np.arange(len(predictions)), \"invasive\":predictions})\n",
    "df.head()\n",
    "df.to_csv('ouput.csv', index = 0)"
   ]
  }
 ],
 "metadata": {
  "kernelspec": {
   "display_name": "Python [Root]",
   "language": "python",
   "name": "Python [Root]"
  },
  "language_info": {
   "codemirror_mode": {
    "name": "ipython",
    "version": 3
   },
   "file_extension": ".py",
   "mimetype": "text/x-python",
   "name": "python",
   "nbconvert_exporter": "python",
   "pygments_lexer": "ipython3",
   "version": "3.5.2"
  }
 },
 "nbformat": 4,
 "nbformat_minor": 0
}
